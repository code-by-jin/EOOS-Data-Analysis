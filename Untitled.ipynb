{
 "cells": [
  {
   "cell_type": "code",
   "execution_count": 1,
   "id": "279659eb",
   "metadata": {},
   "outputs": [],
   "source": [
    "import os, io\n",
    "import csv\n",
    "import numpy as np\n",
    "import datetime\n",
    "from pathlib import Path\n",
    "import argparse\n",
    "\n",
    "import pandas as pd\n",
    "pd.set_option(\"display.precision\", 3)\n",
    "\n",
    "import matplotlib.pyplot as plt\n",
    "import matplotlib.dates as mdates\n",
    "from matplotlib.ticker import FormatStrFormatter\n",
    "\n",
    "import warnings\n",
    "warnings.filterwarnings(\"ignore\")\n",
    "from detection_util import *\n",
    "from plot_util import *\n",
    "from stat_util import *"
   ]
  },
  {
   "cell_type": "code",
   "execution_count": 9,
   "id": "62094ae8",
   "metadata": {
    "scrolled": true
   },
   "outputs": [
    {
     "name": "stdout",
     "output_type": "stream",
     "text": [
      "20200828\n",
      "20200826\n",
      "20200907\n",
      "20200901\n",
      "20200930\n",
      "20200923\n",
      "20200925\n",
      "20200824\n",
      "20200903\n",
      "20200921\n",
      "20200917\n",
      "20200928\n",
      "20200831\n"
     ]
    },
    {
     "data": {
      "image/png": "[encoded data removed]",
      "text/plain": [
       "<Figure size 432x288 with 1 Axes>"
      ]
     },
     "metadata": {
      "needs_background": "light"
     },
     "output_type": "display_data"
    }
   ],
   "source": [
    "duration = []\n",
    "src = 'data_1'\n",
    "for date in os.listdir(src):\n",
    "    if date.startswith('.'): continue\n",
    "    print(date)\n",
    "    home_folder = os.path.join(src, date)\n",
    "    path_feces = os.path.join(home_folder, 'feces.xlsx')\n",
    "    path_urine = os.path.join(home_folder, 'urine.xlsx')\n",
    "    path_fm = os.path.join(home_folder, 'flowmeter.xlsx')\n",
    "#     path_door = os.path.join(home_folder, 'door.xlsx')\n",
    "    \n",
    "    df_feces = read_data(path_feces, date, is_interpolate = True)\n",
    "    df_urine = read_data(path_urine, date, is_interpolate = True)\n",
    "#     df_flowmeter = read_new_flowmeter(path_fm, date, is_interpolate = False)\n",
    "#     df_flowmeter = df_flowmeter[['flow']]\n",
    "\n",
    "#     df_flowmeter.loc[:, 'flow'] = df_flowmeter.loc[:, 'flow'].clip(lower=0.5)\n",
    "#     df_flowmeter.loc[:, 'flow'] = df_flowmeter.loc[:, 'flow'].replace({0.5:np.nan})\n",
    "#     df_flowmeter = df_flowmeter.resample('1S').pad()\n",
    "#     df_flowmeter.loc[:, 'flow'] = df_flowmeter.loc[:, 'flow'].replace({np.nan:0})\n",
    "#     df_flowmeter.loc[:, 'flow'] = df_flowmeter.loc[:, 'flow']/60\n",
    "#     df_door = read_data(path_door, date, is_interpolate = False)\n",
    "    df_feces = df_feces[['weight']]\n",
    "    df_feces.columns = ['feces']\n",
    "    df_urine = df_urine[['weight']]\n",
    "    df_urine.columns = ['urine']\n",
    "#     df = pd.concat([df_feces, df_urine, df_flowmeter], axis=1).reset_index()\n",
    "    df = pd.concat([df_feces, df_urine], axis=1).reset_index()\n",
    "    df['feces_deriv'] = df['feces'].diff(periods=5)/(df['date_time'].diff(periods=5).dt.total_seconds())\n",
    "    df['urine_deriv'] = df['urine'].diff(periods=5)/(df['date_time'].diff(periods=5).dt.total_seconds())\n",
    "    df['feces_deriv_2'] = df['feces_deriv'].diff(periods=5)/(df['date_time'].diff(periods=5).dt.total_seconds())\n",
    "    df['urine_deriv_2'] = df['urine_deriv'].diff(periods=5)/(df['date_time'].diff(periods=5).dt.total_seconds())\n",
    "\n",
    "#     df['door_deriv'] = df['door'].diff(periods=1)/(df['date_time'].diff(periods=1).dt.total_seconds())\n",
    "    start_indexes, end_indexes = detect_event(df.loc[:], home_folder, th_feces_deriv=0.0, \n",
    "                                              th_urine_deriv=0.0, th_end_last=5, th_duration=40)\n",
    "    for s, e in zip(start_indexes, end_indexes):\n",
    "        duration.append(e -s)\n",
    "plt.hist(duration, len(duration)//1)\n",
    "# plt.xtick()\n",
    "plt.show()"
   ]
  },
  {
   "cell_type": "code",
   "execution_count": 14,
   "id": "581e9961",
   "metadata": {
    "scrolled": true
   },
   "outputs": [
    {
     "data": {
      "image/png": "[encoded data removed]",
      "text/plain": [
       "<Figure size 432x288 with 1 Axes>"
      ]
     },
     "metadata": {
      "needs_background": "light"
     },
     "output_type": "display_data"
    }
   ],
   "source": [
    "plt.hist(duration, (len(duration)))\n",
    "plt.xlim(0, 600)\n",
    "\n",
    "# plt.xtick()\n",
    "plt.show()"
   ]
  },
  {
   "cell_type": "code",
   "execution_count": 15,
   "id": "8f90a03d",
   "metadata": {
    "scrolled": true
   },
   "outputs": [
    {
     "data": {
      "text/plain": [
       "9"
      ]
     },
     "execution_count": 15,
     "metadata": {},
     "output_type": "execute_result"
    }
   ],
   "source": [
    "min(duration)"
   ]
  },
  {
   "cell_type": "code",
   "execution_count": null,
   "id": "fb324e5c",
   "metadata": {},
   "outputs": [],
   "source": [
    "date = '20210805'\n",
    "home_folder = os.path.join('data', date)\n",
    "path_feces = os.path.join(home_folder, 'feces.xlsx')\n",
    "path_urine = os.path.join(home_folder, 'urine.xlsx')\n",
    "path_fm = os.path.join(home_folder, 'flowmeter.xlsx')\n",
    "path_door = os.path.join(home_folder, 'door.xlsx')"
   ]
  },
  {
   "cell_type": "code",
   "execution_count": null,
   "id": "cd851d5d",
   "metadata": {
    "scrolled": true
   },
   "outputs": [],
   "source": [
    "df_feces = read_data(path_feces, date, is_interpolate = True)\n",
    "df_urine = read_data(path_urine, date, is_interpolate = True)\n",
    "df_flowmeter = read_new_flowmeter(path_fm, date, is_interpolate = False)\n",
    "df_door = read_data(path_door, date, is_interpolate = False)\n",
    "df_feces = df_feces[['weight']]\n",
    "df_feces.columns = ['feces']\n",
    "df_urine = df_urine[['weight']]\n",
    "df_urine.columns = ['urine']"
   ]
  },
  {
   "cell_type": "code",
   "execution_count": null,
   "id": "edfe6465",
   "metadata": {},
   "outputs": [],
   "source": [
    "df_door.head()"
   ]
  },
  {
   "cell_type": "code",
   "execution_count": null,
   "id": "3a770e0c",
   "metadata": {},
   "outputs": [],
   "source": [
    "df_flowmeter = df_flowmeter[['flow']]\n",
    "\n",
    "df_flowmeter.loc[:, 'flow'] = df_flowmeter.loc[:, 'flow'].clip(lower=0.5)\n",
    "df_flowmeter.loc[:, 'flow'] = df_flowmeter.loc[:, 'flow'].replace({0.5:np.nan})\n",
    "df_flowmeter = df_flowmeter.resample('1S').pad()\n",
    "df_flowmeter.loc[:, 'flow'] = df_flowmeter.loc[:, 'flow'].replace({np.nan:0})\n",
    "df_flowmeter.loc[:, 'flow'] = df_flowmeter.loc[:, 'flow']/60"
   ]
  },
  {
   "cell_type": "code",
   "execution_count": null,
   "id": "72a3cfdf",
   "metadata": {},
   "outputs": [],
   "source": [
    "df_flowmeter[:]"
   ]
  },
  {
   "cell_type": "code",
   "execution_count": null,
   "id": "10a13865",
   "metadata": {},
   "outputs": [],
   "source": [
    "df = pd.concat([df_feces, df_urine, df_flowmeter, df_door], axis=1).reset_index()"
   ]
  },
  {
   "cell_type": "code",
   "execution_count": null,
   "id": "3cd990fc",
   "metadata": {
    "scrolled": false
   },
   "outputs": [],
   "source": [
    "df.head()"
   ]
  },
  {
   "cell_type": "code",
   "execution_count": null,
   "id": "9239d7b0",
   "metadata": {
    "scrolled": true
   },
   "outputs": [],
   "source": [
    "df['feces_deriv'] = df['feces'].diff(periods=5)/(df['date_time'].diff(periods=5).dt.total_seconds())\n",
    "df['urine_deriv'] = df['urine'].diff(periods=5)/(df['date_time'].diff(periods=5).dt.total_seconds())\n",
    "df['feces_deriv_2'] = df['feces_deriv'].diff(periods=5)/(df['date_time'].diff(periods=5).dt.total_seconds())\n",
    "df['urine_deriv_2'] = df['urine_deriv'].diff(periods=5)/(df['date_time'].diff(periods=5).dt.total_seconds())\n",
    "\n",
    "df['door_deriv'] = df['door'].diff(periods=1)/(df['date_time'].diff(periods=1).dt.total_seconds())\n",
    "start_indexes, end_indexes = detect_event(df.loc[:], home_folder, th_feces_deriv=0.0, \n",
    "                                          th_urine_deriv=0.0, th_end_last=5, th_duration=40)"
   ]
  },
  {
   "cell_type": "code",
   "execution_count": null,
   "id": "c2f8ebd7",
   "metadata": {},
   "outputs": [],
   "source": [
    "def plot_event(df, s_event, e_event, s_door, e_door):\n",
    "    min_i = min(s_event, s_door)\n",
    "#     print(df.loc[min(s_event, s_door):max(e_event, e_door), 'urine'])\n",
    "    df_event, _, _, _, _ = process_event(df, min(s_event, s_door)-20, max(e_event, e_door)+20)\n",
    "    plt.style.use('bmh')\n",
    "    fig, ax = plt.subplots(figsize=(20, 10))    \n",
    "    ax.plot(df_event.index, df_event.loc[:, 'feces'], color=\"red\", marker=\"^\", label = \"feces tank\")\n",
    "#     ax.plot(df_event.index, df_event.loc[:, 'feces_deriv_2'], color=\"red\", marker=\"^\", label = \"feces tank\")\n",
    "#     ax.plot(df_event.index, df_event.loc[:, 'door'], color=\"red\", marker=\"^\", label = \"door switch\")\n",
    "#     plt.axvline(x=s_event-min(s_event, s_door)+20, ls='-', linewidth=2, color = 'red', label='event starts')\n",
    "#     plt.axvline(x=e_event-min(s_event, s_door)+20, ls=':', linewidth=2, color = 'red', label='event ends')\n",
    "    ax.set_ylabel(\"Feces Tank Volume (L)\",color=\"red\", fontsize=30) # set y-axis label\n",
    "#     ax.set_ylabel(\"Feces Tank Derivative\",color=\"red\", fontsize=30) # set y-axis label\n",
    "    ax.set_xlabel('Seconds',fontsize=30)\n",
    "    ax.tick_params(axis='x', labelsize=20)\n",
    "    ax.tick_params(axis='y', labelsize=20)\n",
    "    ax.yaxis.set_major_formatter(FormatStrFormatter('%.3f'))\n",
    "    ax.legend(loc='center left', fontsize = 20)\n",
    "    \n",
    "    ax2 = ax.twinx()\n",
    "#     print(df_event.loc[:, 'urine'])\n",
    "    ax2.plot(df_event.index, df_event.loc[:, 'urine'], color=\"blue\", marker=\"v\", label = \"urine tank\")\n",
    "#     ax2.plot(df_event.index, df_event.loc[:, 'urine_deriv_2'], color=\"blue\", marker=\"v\", label = \"urine tank\")\n",
    "    ax2.set_ylabel(\"Urine Tank Volume (L)\",color=\"blue\",fontsize=30)\n",
    "    ax2.scatter(df_event.index, df_event.loc[:, 'flow'], color=\"blue\", marker=\"o\", label = \"flowmeter\")\n",
    "#     ax2.set_ylabel(\"Urine Tank Derivative\",color=\"blue\",fontsize=30)\n",
    "    ax2.tick_params(axis='y', labelsize=20)\n",
    "    ax2.yaxis.set_major_formatter(FormatStrFormatter('%.3f'))\n",
    "    plt.axvline(x=s_door-min(s_event, s_door)+20, ls='-', linewidth=2, color = 'blue', label='door closes')\n",
    "    plt.axvline(x=e_door-min(s_event, s_door)+20, ls=':', linewidth=2, color = 'blue', label='door opens')\n",
    "\n",
    "#     for i in range(14, 16):\n",
    "#         s_door = door_open[i]\n",
    "#         e_door = door_closed[i]\n",
    "# #         print(s_door, e_door, s_door-min(s_event, s_door)+20, e_door-min(s_event, s_door)+20)\n",
    "#         plt.axvline(x=s_door-min_i+20, ls='-', linewidth=2, color = 'blue', label='door closes')\n",
    "#         plt.axvline(x=e_door-min_i+20, ls=':', linewidth=2, color = 'blue', label='door opens')\n",
    "\n",
    "#     for i in range(21, 23):\n",
    "#         s_event = start_indexes[i]\n",
    "#         e_event = end_indexes[i]\n",
    "#         if i == -4:\n",
    "#             plt.axvline(x=s_event-min_i+20, ls='-', linewidth=1, color = 'red', label='event starts')\n",
    "#             plt.axvline(x=e_event-min_i+20, ls=':', linewidth=1, color = 'red', label='event ends')\n",
    "#         else:\n",
    "#             plt.axvline(x=s_event-min_i+20, ls='-', linewidth=1, color = 'red')\n",
    "#             plt.axvline(x=e_event-min_i+20, ls=':', linewidth=1, color = 'red')\n",
    "\n",
    "\n",
    "    ax2.legend(loc='center right', fontsize = 20)\n",
    "#     print(s_event, e_event, s_door, e_door)\n",
    "#     return fig\n"
   ]
  },
  {
   "cell_type": "code",
   "execution_count": null,
   "id": "1aa9a1cf",
   "metadata": {},
   "outputs": [],
   "source": [
    "door_open = df.loc[df.loc[:, 'door_deriv'] > 0, :].index.values\n",
    "door_closed = df.loc[df.loc[:, 'door_deriv'] < 0, :].index.values"
   ]
  },
  {
   "cell_type": "code",
   "execution_count": null,
   "id": "edca3bf9",
   "metadata": {},
   "outputs": [],
   "source": [
    "door_open[0], door_closed[0]"
   ]
  },
  {
   "cell_type": "code",
   "execution_count": null,
   "id": "7d8e3846",
   "metadata": {},
   "outputs": [],
   "source": [
    "start_indexes[0], end_indexes[0]"
   ]
  },
  {
   "cell_type": "code",
   "execution_count": null,
   "id": "66c1657e",
   "metadata": {},
   "outputs": [],
   "source": [
    "for s, e in zip(door_open, door_closed):\n",
    "    print(e)"
   ]
  },
  {
   "cell_type": "code",
   "execution_count": null,
   "id": "8b398ed1",
   "metadata": {
    "scrolled": false
   },
   "outputs": [],
   "source": [
    "for s, e in zip(start_indexes, end_indexes):\n",
    "    print(e)"
   ]
  },
  {
   "cell_type": "code",
   "execution_count": null,
   "id": "2783532e",
   "metadata": {
    "scrolled": false
   },
   "outputs": [],
   "source": [
    "len(start_indexes)"
   ]
  },
  {
   "cell_type": "code",
   "execution_count": null,
   "id": "b2bdc8cb",
   "metadata": {
    "scrolled": false
   },
   "outputs": [],
   "source": [
    "df.loc[:, 'flow'] = df.loc[:, 'flow'].replace({0:np.nan})\n",
    "\n",
    "# plot_event(df, start_indexes[12], end_indexes[12], door_open[20], door_closed[20])\n",
    "# plot_event(df, start_indexes[12], end_indexes[12], start_indexes[12], end_indexes[12])\n",
    "\n",
    "plot_event(df, door_open[21], door_closed[21], door_open[21], door_closed[21])"
   ]
  },
  {
   "cell_type": "code",
   "execution_count": null,
   "id": "a051ea8d",
   "metadata": {},
   "outputs": [],
   "source": [
    "start_indexes[16]"
   ]
  },
  {
   "cell_type": "code",
   "execution_count": null,
   "id": "20b1d004",
   "metadata": {},
   "outputs": [],
   "source": [
    "door_closed[10]+40"
   ]
  },
  {
   "cell_type": "code",
   "execution_count": null,
   "id": "b4c05a41",
   "metadata": {},
   "outputs": [],
   "source": [
    "df.loc[1050:3061, 'urine'].plot()"
   ]
  },
  {
   "cell_type": "code",
   "execution_count": null,
   "id": "33c61268",
   "metadata": {},
   "outputs": [],
   "source": [
    "end_indexes[2]"
   ]
  },
  {
   "cell_type": "code",
   "execution_count": null,
   "id": "a1a59bac",
   "metadata": {},
   "outputs": [],
   "source": [
    "start_indexes[3]"
   ]
  },
  {
   "cell_type": "code",
   "execution_count": null,
   "id": "cc2dbd06",
   "metadata": {},
   "outputs": [],
   "source": [
    "7259 - 7226"
   ]
  },
  {
   "cell_type": "code",
   "execution_count": null,
   "id": "651b00f1",
   "metadata": {},
   "outputs": [],
   "source": [
    "for s, e in zip(start_indexes, end_indexes):\n",
    "    print(s)"
   ]
  },
  {
   "cell_type": "code",
   "execution_count": null,
   "id": "a1c58f84",
   "metadata": {
    "scrolled": false
   },
   "outputs": [],
   "source": [
    "# path_simu = 'simu.xlsx'\n",
    "# df = pd.ExcelFile(path_simu)\n",
    "# sheet_name = df.sheet_names[7] # use the first sheet in the .xlsx file\n",
    "# print(sheet_name)\n",
    "# # date = '20210918'\n",
    "# df = df.parse(sheet_name, skiprows=0, parse_dates=[['date', 'time']]) \n",
    "# df.columns = df.columns.str.replace(' ', '') # clean: remove spaces in column names\n",
    "# print(df.loc[:, ['date_time','door']])\n",
    "# df = df.groupby('date_time', as_index=True).mean() # combine reduplicative data\n",
    "# # print(df.loc[:, ['door']])\n",
    "\n",
    "# df = df.interpolate(method='pad', limit_direction='forward', axis=0) # fill in NaNs using existing values.\n",
    "# # df = df.dropna()\n",
    "# df.loc[:, 'feces'] = df.loc[:, 'feces'].resample('1S').pad()\n",
    "# df.loc[:, 'feces'] = df.loc[:, 'feces'].rolling(window=10).mean()\n",
    "# df.loc[:, 'urine'] = df.loc[:, 'urine'].resample('1S').pad()\n",
    "# df.loc[:, 'urine'] = df.loc[:, 'urine'].rolling(window=10).mean()\n",
    "# df.index = df.index.map(lambda t: t.replace(year=int(date[:4]), month=int(date[4:6]), day=int(date[6:])))\n",
    "\n",
    "# df = df[['feces', 'urine', 'door']]\n",
    "# df = df.reset_index()\n",
    "# # print(df.loc[:, 'door'])\n",
    "# df = df.dropna()\n",
    "# p = 10\n",
    "# df['feces_deriv'] = df['feces'].diff(periods=p)/(df['date_time'].diff(periods=p).dt.total_seconds())\n",
    "# df['urine_deriv'] = df['urine'].diff(periods=p)/(df['date_time'].diff(periods=p).dt.total_seconds())\n",
    "# df['door_deriv'] = df['door'].diff(periods=1)/(df['date_time'].diff(periods=1).dt.total_seconds())\n"
   ]
  },
  {
   "cell_type": "code",
   "execution_count": null,
   "id": "95c1efaf",
   "metadata": {},
   "outputs": [],
   "source": [
    "# door_open = df.loc[df.loc[:, 'door_deriv'] > 0, :].index.values\n",
    "# door_close = df.loc[df.loc[:, 'door_deriv'] < 0, :].index.values"
   ]
  },
  {
   "cell_type": "code",
   "execution_count": null,
   "id": "cc805e80",
   "metadata": {
    "scrolled": false
   },
   "outputs": [],
   "source": [
    "# df['door_deriv']"
   ]
  },
  {
   "cell_type": "code",
   "execution_count": null,
   "id": "b1b6c1a9",
   "metadata": {},
   "outputs": [],
   "source": [
    "# door_close"
   ]
  },
  {
   "cell_type": "code",
   "execution_count": null,
   "id": "4ca374d6",
   "metadata": {
    "scrolled": true
   },
   "outputs": [],
   "source": [
    "# df"
   ]
  },
  {
   "cell_type": "code",
   "execution_count": null,
   "id": "4343aca5",
   "metadata": {
    "scrolled": true
   },
   "outputs": [],
   "source": [
    "# df.loc[:, 'door'].plot()"
   ]
  },
  {
   "cell_type": "code",
   "execution_count": null,
   "id": "e8c88e32",
   "metadata": {
    "scrolled": true
   },
   "outputs": [],
   "source": [
    "# df_event, _, _, _, _ = process_event(df, 0, len(df)-1)"
   ]
  },
  {
   "cell_type": "code",
   "execution_count": null,
   "id": "b774b3b0",
   "metadata": {
    "scrolled": false
   },
   "outputs": [],
   "source": [
    "# plot_event(df, 2, len(df)-1, door_open[-1], door_close[-1])"
   ]
  },
  {
   "cell_type": "code",
   "execution_count": null,
   "id": "3faaab9e",
   "metadata": {},
   "outputs": [],
   "source": []
  },
  {
   "cell_type": "code",
   "execution_count": null,
   "id": "68105410",
   "metadata": {},
   "outputs": [],
   "source": []
  }
 ],
 "metadata": {
  "kernelspec": {
   "display_name": "Python 3",
   "language": "python",
   "name": "python3"
  },
  "language_info": {
   "codemirror_mode": {
    "name": "ipython",
    "version": 3
   },
   "file_extension": ".py",
   "mimetype": "text/x-python",
   "name": "python",
   "nbconvert_exporter": "python",
   "pygments_lexer": "ipython3",
   "version": "3.6.13"
  }
 },
 "nbformat": 4,
 "nbformat_minor": 5
}
