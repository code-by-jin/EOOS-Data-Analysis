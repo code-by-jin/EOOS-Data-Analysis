{
 "cells": [
  {
   "cell_type": "code",
   "execution_count": null,
   "metadata": {},
   "outputs": [],
   "source": [
    "import os, io\n",
    "import numpy as np\n",
    "import datetime\n",
    "\n",
    "import pandas as pd\n",
    "pd.set_option(\"display.precision\", 3)\n",
    "\n",
    "import matplotlib.pyplot as plt\n",
    "import matplotlib.dates as mdates\n",
    "from matplotlib.ticker import FormatStrFormatter\n",
    "\n",
    "import warnings\n",
    "warnings.filterwarnings(\"ignore\")\n",
    "from utilities import *"
   ]
  },
  {
   "cell_type": "code",
   "execution_count": null,
   "metadata": {
    "scrolled": true
   },
   "outputs": [],
   "source": [
    "def main(date):\n",
    "    path_date = os.path.join('data', date)\n",
    "    path_feces = os.path.join(path_date, 'feces.xlsx')\n",
    "    path_urine = os.path.join(path_date, 'urine.xlsx')\n",
    "    path_flowmeter = os.path.join(path_date, 'flowmeter.xlsx')\n",
    "    df_feces = read_data(path_feces, date) # read feces file\n",
    "    df_feces = df_feces[['weight']]\n",
    "    df_feces.columns = ['feces']\n",
    "    df_urine = read_data(path_urine, date) # read feces file\n",
    "    df_urine = df_urine[['weight']]\n",
    "    df_urine.columns = ['urine']\n",
    "    df_flowmeter = read_data(path_flowmeter, date, is_interpolate=False) # read feces file\n",
    "    df_flowmeter.index = df_flowmeter.index + pd.Timedelta(hours=8, minutes=54, seconds=34)\n",
    "    df_flowmeter = df_flowmeter[['STALL1']]\n",
    "    df_flowmeter.columns = ['flow']\n",
    "    df_flowmeter.loc[:, 'flow'] = df_flowmeter.loc[:, 'flow']/60\n",
    "    df = pd.concat([df_feces, df_urine, df_flowmeter], axis=1)\n",
    "    df = df.reset_index()\n",
    "    df ['feces_derivative'] = df['feces'].diff(periods=10) / df['date_time'].diff(periods=10).dt.total_seconds()\n",
    "    df ['urine_derivative'] = df['urine'].diff(periods=10) / df['date_time'].diff(periods=10).dt.total_seconds()\n",
    "    start_indexes, end_indexes = detect_event(df.loc[:], path_date)\n",
    "    df_stat = get_stat(df, start_indexes, end_indexes)\n",
    "    df_stat.to_csv(os.path.join(path_date, 'stat.csv'), index=False)\n",
    "    for file in os.listdir(path_date):\n",
    "        if file.endswith('.png'):\n",
    "            os.remove(os.path.join(path_date, file)) \n",
    "    for i, (start_index, end_index) in enumerate(zip(start_indexes, end_indexes)):  \n",
    "        df_event, _, _, _, _ = process_event(df, start_index, end_index)\n",
    "        fig = plot_event(df_event, [0], [df_event.index[-1]])\n",
    "        plt.show()\n",
    "        fig.savefig(os.path.join(path_date, 'event_' + str(i+1) + '.png'))\n",
    "        fig = plot_derivative(df_event, [0], [df_event.index[-1]])\n",
    "        plt.show()\n",
    "        fig.savefig(os.path.join(path_date, 'derivative_' + str(i+1) + '.png'))  \n",
    "    return df_stat"
   ]
  },
  {
   "cell_type": "code",
   "execution_count": null,
   "metadata": {
    "scrolled": true
   },
   "outputs": [],
   "source": [
    "for date in ['20201124', '20201125', '20201210', '20201211', \n",
    "             '20201212', '20201214', '20201215', '20201221', '20201222', \n",
    "             '20201223', '20201224', '20201228', '20201229', '20201230']:\n",
    "    main(date)"
   ]
  },
  {
   "cell_type": "code",
   "execution_count": null,
   "metadata": {},
   "outputs": [],
   "source": []
  }
 ],
 "metadata": {
  "kernelspec": {
   "display_name": "Python 3",
   "language": "python",
   "name": "python3"
  },
  "language_info": {
   "codemirror_mode": {
    "name": "ipython",
    "version": 3
   },
   "file_extension": ".py",
   "mimetype": "text/x-python",
   "name": "python",
   "nbconvert_exporter": "python",
   "pygments_lexer": "ipython3",
   "version": "3.6.10"
  }
 },
 "nbformat": 4,
 "nbformat_minor": 4
}
