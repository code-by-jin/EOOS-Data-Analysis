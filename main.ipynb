{
 "cells": [
  {
   "cell_type": "code",
   "execution_count": 1,
   "id": "d050429c",
   "metadata": {},
   "outputs": [],
   "source": [
    "from main_util import *\n",
    "from skimage import filters"
   ]
  },
  {
   "cell_type": "code",
   "execution_count": null,
   "id": "3a97ad51",
   "metadata": {},
   "outputs": [],
   "source": [
    "def analyze_period(data_dir, fm=None):\n",
    "\n",
    "        \n",
    "    df_stat = pd.DataFrame(columns=['date', 'plot_num', 'start index', 'end index', \n",
    "                                'start time', 'end time', 'feces volume', 'urine volume'])\n",
    "\n",
    "    writer = pd.ExcelWriter(data_dir+'.xlsx', engine='xlsxwriter')\n",
    "    for date in os.listdir(data_dir):\n",
    "        if date.startswith('.'): continue\n",
    "        if data_dir == 'period_2' and fm:\n",
    "            if int(date) > 20210319:\n",
    "                fm = 2\n",
    "            else:\n",
    "                fm = 5\n",
    "        print(date)\n",
    "        df, start_indexes, end_indexes = analyze_one_day(data_dir, date, flowmeter = fm, door = False)\n",
    "        plot_num = 0\n",
    "        for s, e in zip(start_indexes, end_indexes):\n",
    "            fig = plot_event(df, s, e, flowmeter = fm, derivative=None)\n",
    "            fig.savefig(os.path.join(data_dir, date, 'event_' + str(plot_num+1) + '.png'))\n",
    "#             if e - s < 30:\n",
    "#                 fig.savefig(os.path.join('short', data_dir, \n",
    "#                                          str(e-s) + '_' + date + '_event_' + str(plot_num+1) + '.png'))\n",
    "#             if e - s > 300:\n",
    "#                 fig.savefig(os.path.join('long', data_dir, \n",
    "#                                          str(e-s) + '_' + date + '_event_' + str(plot_num+1) + '.png'))       \n",
    "            plt.close()\n",
    "\n",
    "#             fig_d_1 = plot_event(df, s, e, flowmeter = fm, derivative=1)\n",
    "#             fig_d_1.savefig(os.path.join(data_dir, date, 'event_' + str(plot_num+1) + '_d1.png'))\n",
    "#             plt.close()\n",
    "#             fig_d_2 = plot_event(df, s, e, flowmeter = fm, derivative=2)\n",
    "#             fig_d_2.savefig(os.path.join(data_dir, date, 'event_' + str(plot_num+1) + '_d2.png'))\n",
    "#             plt.close()\n",
    "            row = {'date': date,  'plot_num': plot_num, 'start index': s, 'end index': e,\n",
    "                   'start time': df.loc[s, 'date_time'] , 'end time': df.loc[e, 'date_time'],\n",
    "                   'feces volume': df.loc[e, 'feces'] - df.loc[s, 'feces'],\n",
    "                   'urine volume': df.loc[e, 'urine'] - df.loc[s, 'urine']}\n",
    "#             if (row['feces volume'] + row['urine volume']) < 0.2:\n",
    "#                 continue\n",
    "            df_stat = df_stat.append(row, ignore_index=True, sort=False)\n",
    "            plot_num += 1\n",
    "    df_stat.to_excel(writer, sheet_name=date)\n",
    "    writer.save()"
   ]
  },
  {
   "cell_type": "code",
   "execution_count": null,
   "id": "493b02af",
   "metadata": {
    "scrolled": false
   },
   "outputs": [],
   "source": [
    "# duration_simu = analyze_period('data_simulation', None)"
   ]
  },
  {
   "cell_type": "code",
   "execution_count": null,
   "id": "73a45b90",
   "metadata": {},
   "outputs": [],
   "source": [
    "# df, start_indexes, end_indexes = analyze_one_day('period_1', '20200930', flowmeter = None, door = False)"
   ]
  },
  {
   "cell_type": "code",
   "execution_count": null,
   "id": "b11511ce",
   "metadata": {
    "scrolled": false
   },
   "outputs": [],
   "source": [
    "# duration_1 = analyze_period('period_1', None)"
   ]
  },
  {
   "cell_type": "code",
   "execution_count": null,
   "id": "5967766e",
   "metadata": {
    "scrolled": true
   },
   "outputs": [],
   "source": [
    "# duration_2 = analyze_period('period_2', 2)"
   ]
  },
  {
   "cell_type": "code",
   "execution_count": null,
   "id": "f774b15f",
   "metadata": {
    "scrolled": true
   },
   "outputs": [],
   "source": [
    "# duration_3 = analyze_period('data_3', 2)"
   ]
  },
  {
   "cell_type": "code",
   "execution_count": 2,
   "id": "04ac94ec",
   "metadata": {},
   "outputs": [],
   "source": [
    "def read_stat(data_dir):\n",
    "    df = pd.ExcelFile(data_dir+'.xlsx') # read feces file\n",
    "    df_dates_list = []\n",
    "    for sheet_name in df.sheet_names:\n",
    "        df_data = df.parse(sheet_name, skiprows=0) \n",
    "        df_dates_list.append(df_data)\n",
    "    df_dates = pd.concat(df_dates_list, axis=0)\n",
    "    df_dates['volume'] = df_dates.loc[:, 'feces volume'] + df_dates.loc[:, 'urine volume']\n",
    "    df_dates['duration'] = df_dates.loc[:, 'end index'] - df_dates.loc[:, 'start index']\n",
    "    df_dates = df_dates.loc[df_dates.loc[:, 'volume'] >= 0.2, :]\n",
    "    df_dates = df_dates.loc[df_dates.loc[:, 'duration'] >= 15, :]\n",
    "    df_dates = df_dates.loc[df_dates.loc[:, 'duration'] <= 450, :]\n",
    "    return df_dates"
   ]
  },
  {
   "cell_type": "code",
   "execution_count": 3,
   "id": "37f75356",
   "metadata": {},
   "outputs": [],
   "source": [
    "df_1 = read_stat('period_1')\n",
    "duration_1 = (df_1.loc[:, 'end index'] - df_1.loc[:, 'start index']).values"
   ]
  },
  {
   "cell_type": "code",
   "execution_count": null,
   "id": "a8e07d70",
   "metadata": {
    "scrolled": false
   },
   "outputs": [],
   "source": [
    "# t_1, duration_1_short = my_plot_hist(duration_1, cut=True)\n",
    "# print(len([i for i in duration_1_short if i <= t_1]))\n",
    "# print(len([i for i in duration_1_short if i > t_1]))"
   ]
  },
  {
   "cell_type": "code",
   "execution_count": null,
   "id": "0d66f0ee",
   "metadata": {},
   "outputs": [],
   "source": [
    "# from skimage.filters.thresholding import _cross_entropy\n",
    "# duration_1 = np.array(duration_1)\n",
    "# thresholds = np.arange(np.min(duration_1_short) + 1.5, np.max(duration_1_short) - 1.5)\n",
    "# entropies = [_cross_entropy(duration_1_short, t) for t in thresholds]\n",
    "# iter_entropies = [_cross_entropy(duration_1_short, t) for t in iter_thresholds]\n",
    "\n",
    "# print('Only', len(iter_thresholds), 'thresholds examined.')\n",
    "\n",
    "# fig, ax = plt.subplots()\n",
    "\n",
    "# ax.plot(thresholds, entropies, label='all threshold entropies')\n",
    "# ax.plot(iter_thresholds, iter_entropies, label='optimization path')\n",
    "# ax.scatter(iter_thresholds, iter_entropies, c='C1')\n",
    "# ax.legend(loc='upper right')\n",
    "\n",
    "# plt.show()"
   ]
  },
  {
   "cell_type": "code",
   "execution_count": 4,
   "id": "45526d01",
   "metadata": {
    "scrolled": true
   },
   "outputs": [],
   "source": [
    "df_2 = read_stat('period_2')\n",
    "duration_2 = (df_2.loc[:, 'end index'] - df_2.loc[:, 'start index']).values"
   ]
  },
  {
   "cell_type": "code",
   "execution_count": null,
   "id": "6a5d9034",
   "metadata": {
    "scrolled": true
   },
   "outputs": [],
   "source": [
    "# t_2, duration_short_2 = my_plot_hist(duration_2, cut=True)\n",
    "# print(len([i for i in duration_short_2 if i <= t_2]))\n",
    "# print(len([i for i in duration_short_2 if i > t_2]))"
   ]
  },
  {
   "cell_type": "code",
   "execution_count": 5,
   "id": "065cc8e4",
   "metadata": {},
   "outputs": [],
   "source": [
    "df_3 = read_stat('data_3')\n",
    "duration_3 = (df_3.loc[:, 'end index'] - df_3.loc[:, 'start index']).values"
   ]
  },
  {
   "cell_type": "code",
   "execution_count": null,
   "id": "a86711c8",
   "metadata": {},
   "outputs": [],
   "source": [
    "# t_3, duration_short_3 = my_plot_hist(duration_3, cut=True)\n",
    "# print('<t: ', len([i for i in duration_short_3 if i <= t_3]))\n",
    "# print('>t: ', len([i for i in duration_short_3 if i > t_3]))"
   ]
  },
  {
   "cell_type": "code",
   "execution_count": null,
   "id": "883d9550",
   "metadata": {},
   "outputs": [],
   "source": [
    "# t_12, duration_short_12 = my_plot_hist(list(duration_1)+ list(duration_2), cut=True)\n",
    "# print('<t: ', len([i for i in duration_short_12 if i <= t_12]))\n",
    "# print('>t: ', len([i for i in duration_short_12 if i > t_12]))"
   ]
  },
  {
   "cell_type": "code",
   "execution_count": null,
   "id": "23348454",
   "metadata": {},
   "outputs": [],
   "source": [
    "# t_13, duration_short_13 = my_plot_hist(list(duration_1)+ list(duration_3), cut=True)\n",
    "# print('<t: ', len([i for i in duration_short_13 if i <= t_13]))\n",
    "# print('>t: ', len([i for i in duration_short_13 if i > t_13]))"
   ]
  },
  {
   "cell_type": "code",
   "execution_count": null,
   "id": "7c7c3d75",
   "metadata": {},
   "outputs": [],
   "source": [
    "# t_23, duration_short_23 = my_plot_hist(list(duration_2)+ list(duration_3), cut=True)\n",
    "# print('<t: ', len([i for i in duration_short_23 if i <= t_23]))\n",
    "# print('>t: ', len([i for i in duration_short_23 if i > t_23]))"
   ]
  },
  {
   "cell_type": "code",
   "execution_count": null,
   "id": "d1794d32",
   "metadata": {},
   "outputs": [],
   "source": [
    "# def my_plot_hist(duration, cut=True, binning=1):\n",
    "#     if cut:\n",
    "#         duration_short = [x for x in duration if x >= 15]\n",
    "#         duration_short = [x for x in duration_short if x <= 450]\n",
    "#     else:\n",
    "#         duration_short = duration        \n",
    "\n",
    "#     t = filters.threshold_li(np.array(duration_short))\n",
    "#     plt.figure()\n",
    "#     n, bins, patches = plt.hist(duration_short, bins=range(15, 450 + 5, 5))\n",
    "#     plt.xlabel('Duration (s)',  fontsize=14)\n",
    "#     plt.ylabel('Count', fontsize=14)\n",
    "#     plt.xticks(fontsize=14)\n",
    "#     plt.show()\n",
    "#     return t, duration_short"
   ]
  },
  {
   "cell_type": "code",
   "execution_count": null,
   "id": "fd68780c",
   "metadata": {
    "scrolled": false
   },
   "outputs": [],
   "source": [
    "t_123, duration_short_123 = my_plot_hist(list(duration_1)+ list(duration_2) + list(duration_3), cut=True)\n",
    "\n",
    "print('<t: ', len([i for i in duration_short_123 if i <= t_123]))\n",
    "print('>t: ', len([i for i in duration_short_123 if i > t_123]))"
   ]
  },
  {
   "cell_type": "code",
   "execution_count": 6,
   "id": "d2feb251",
   "metadata": {},
   "outputs": [],
   "source": [
    "duration_short_123 = list(duration_1)+ list(duration_2) + list(duration_3)"
   ]
  },
  {
   "cell_type": "code",
   "execution_count": null,
   "id": "4d801944",
   "metadata": {},
   "outputs": [],
   "source": [
    "# duration_short_123 = [x // 5 * 5 for x in duration_short_123]"
   ]
  },
  {
   "cell_type": "code",
   "execution_count": 12,
   "id": "3175b853",
   "metadata": {},
   "outputs": [],
   "source": [
    "from sklearn import mixture\n",
    "duration_short_123 = np.array(duration_short_123).reshape(-1, 1)\n",
    "gmm = mixture.GaussianMixture(n_components=2, covariance_type='full').fit(duration_short_123)"
   ]
  },
  {
   "cell_type": "code",
   "execution_count": 13,
   "id": "dbcd83ec",
   "metadata": {
    "scrolled": true
   },
   "outputs": [
    {
     "name": "stdout",
     "output_type": "stream",
     "text": [
      "means [ 61.28402954 186.16216608]\n",
      "var [ 922.17125431 7154.75346649]\n",
      "stds [30.36727275 84.58577579]\n",
      "weights [0.70890893 0.29109107]\n"
     ]
    }
   ],
   "source": [
    "means = gmm.means_.reshape(2, )\n",
    "print('means', means)\n",
    "#print(gmm.covariances_)\n",
    "var = gmm.covariances_.reshape(2, )\n",
    "stds = np.sqrt(var)\n",
    "print('var', var)\n",
    "print('stds', stds)\n",
    "weights = gmm.weights_\n",
    "print('weights', weights)\n"
   ]
  },
  {
   "cell_type": "code",
   "execution_count": 14,
   "id": "5e4d9796",
   "metadata": {},
   "outputs": [],
   "source": [
    "y = gmm.predict(duration_short_123)"
   ]
  },
  {
   "cell_type": "code",
   "execution_count": 15,
   "id": "4f4aa612",
   "metadata": {},
   "outputs": [],
   "source": [
    "y_prob = gmm.predict_proba(duration_short_123)"
   ]
  },
  {
   "cell_type": "code",
   "execution_count": 16,
   "id": "2f09c921",
   "metadata": {},
   "outputs": [],
   "source": [
    "from scipy.stats import norm\n",
    "\n",
    "def gauss(x, mu, sigma, a):\n",
    "#     y = np.exp(-(x-mu)**2/2/sigma**2)\n",
    "    y = norm.pdf(x, mu, sigma)*a # 2nd gaussian\n",
    "\n",
    "#     y = y/sum(y)\n",
    "    return y\n",
    "\n",
    "def bimodal(x, mu1, sigma1, mu2, sigma2):\n",
    "    return gauss(x,mu1,sigma1)+gauss(x,mu2,sigma2)"
   ]
  },
  {
   "cell_type": "code",
   "execution_count": 17,
   "id": "72b57120",
   "metadata": {
    "scrolled": true
   },
   "outputs": [
    {
     "data": {
      "image/png": "[encoded data removed]",
      "text/plain": [
       "<Figure size 432x288 with 1 Axes>"
      ]
     },
     "metadata": {
      "needs_background": "light"
     },
     "output_type": "display_data"
    }
   ],
   "source": [
    "# Evaluate GMM\n",
    "gmm_x = np.linspace(0,450)\n",
    "gmm_y = np.exp(gmm.score_samples(gmm_x.reshape(-1,1)))\n",
    "\n",
    "# Plot histograms and gaussian curves\n",
    "fig, ax = plt.subplots()\n",
    "ax.hist(duration_short_123, bins=range(15, 450 + 5, 5), density=True)\n",
    "ax.plot(gmm_x, gmm_y, color=\"crimson\", lw=1, label=\"GMM\")\n",
    "\n",
    "# plt.plot(x_fit, bimodal(x_fit, *params), color='red', lw=3, label='model')\n",
    "#...and individual Gauss curves\n",
    "# print(means[0][0], stds[0][0], weights[0])\n",
    "label_2 = 'x~p(x|{:.0f}, {:.0f}\\u00b2)*{:.1f}'.format(means[1], stds[1], weights[1])\n",
    "label_1 = 'x~p(x|{:.0f}, {:.0f}\\u00b2)*{:.1f}'.format(means[0], stds[0], weights[0])\n",
    "plt.plot(gmm_x, gauss(gmm_x, means[0], stds[0], weights[0]), color='red', lw=1, ls=\"--\", label=label_1)\n",
    "y\n",
    "plt.plot(gmm_x, gauss(gmm_x, means[1], stds[1], weights[1]), color='red', lw=1, ls=\":\", label=label_2)\n",
    "\n",
    "plt.axvline(x=124, ls='-', linewidth=1, color = 'red', label = 't = %d'%124)\n",
    "ax.set_xlabel(\"Duration (s)\", fontsize=14)\n",
    "ax.set_ylabel(\"Density\", fontsize=14)\n",
    "\n",
    "plt.legend(fontsize=14)\n",
    "plt.xticks(fontsize=14)\n",
    "plt.yticks(fontsize=14)\n",
    "plt.show()"
   ]
  },
  {
   "cell_type": "code",
   "execution_count": 18,
   "id": "08532f37",
   "metadata": {},
   "outputs": [
    {
     "data": {
      "text/plain": [
       "array([124])"
      ]
     },
     "execution_count": 18,
     "metadata": {},
     "output_type": "execute_result"
    }
   ],
   "source": [
    "max(duration_short_123[y == 0])"
   ]
  },
  {
   "cell_type": "code",
   "execution_count": 19,
   "id": "d763a53a",
   "metadata": {},
   "outputs": [
    {
     "data": {
      "text/plain": [
       "array([125])"
      ]
     },
     "execution_count": 19,
     "metadata": {},
     "output_type": "execute_result"
    }
   ],
   "source": [
    "min(duration_short_123[y == 1])"
   ]
  },
  {
   "cell_type": "code",
   "execution_count": 20,
   "id": "9ea5547f",
   "metadata": {},
   "outputs": [
    {
     "data": {
      "text/plain": [
       "620"
      ]
     },
     "execution_count": 20,
     "metadata": {},
     "output_type": "execute_result"
    }
   ],
   "source": [
    "np.sum(y==0)"
   ]
  },
  {
   "cell_type": "code",
   "execution_count": 21,
   "id": "2c5ad611",
   "metadata": {},
   "outputs": [
    {
     "data": {
      "text/plain": [
       "210"
      ]
     },
     "execution_count": 21,
     "metadata": {},
     "output_type": "execute_result"
    }
   ],
   "source": [
    "np.sum(y==1)"
   ]
  },
  {
   "cell_type": "code",
   "execution_count": null,
   "id": "115e6538",
   "metadata": {},
   "outputs": [],
   "source": [
    "210/830"
   ]
  },
  {
   "cell_type": "code",
   "execution_count": 31,
   "id": "c5b6294a",
   "metadata": {},
   "outputs": [
    {
     "name": "stdout",
     "output_type": "stream",
     "text": [
      "180 63\n"
     ]
    }
   ],
   "source": [
    "y_1 = gmm.predict(np.array(duration_1).reshape(-1, 1))\n",
    "print(np.sum(y_1==0), np.sum(y_1==1))"
   ]
  },
  {
   "cell_type": "code",
   "execution_count": 32,
   "id": "b1f0dbd1",
   "metadata": {},
   "outputs": [
    {
     "name": "stdout",
     "output_type": "stream",
     "text": [
      "321 101\n"
     ]
    }
   ],
   "source": [
    "y_2 = gmm.predict(np.array(duration_2).reshape(-1, 1))\n",
    "print(np.sum(y_2==0), np.sum(y_2==1))"
   ]
  },
  {
   "cell_type": "code",
   "execution_count": 33,
   "id": "cafb4cd7",
   "metadata": {},
   "outputs": [
    {
     "name": "stdout",
     "output_type": "stream",
     "text": [
      "119 46\n"
     ]
    }
   ],
   "source": [
    "y_3 = gmm.predict(np.array(duration_3).reshape(-1, 1))\n",
    "print(np.sum(y_3==0), np.sum(y_3==1))"
   ]
  },
  {
   "cell_type": "code",
   "execution_count": null,
   "id": "c5f9e8a1",
   "metadata": {},
   "outputs": [],
   "source": []
  }
 ],
 "metadata": {
  "kernelspec": {
   "display_name": "Python 3",
   "language": "python",
   "name": "python3"
  },
  "language_info": {
   "codemirror_mode": {
    "name": "ipython",
    "version": 3
   },
   "file_extension": ".py",
   "mimetype": "text/x-python",
   "name": "python",
   "nbconvert_exporter": "python",
   "pygments_lexer": "ipython3",
   "version": "3.6.13"
  }
 },
 "nbformat": 4,
 "nbformat_minor": 5
}
