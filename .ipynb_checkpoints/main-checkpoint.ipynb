{
 "cells": [
  {
   "cell_type": "code",
   "execution_count": null,
   "id": "d050429c",
   "metadata": {},
   "outputs": [],
   "source": [
    "# Import necessary packages\n",
    "from main_util import *\n",
    "from skimage import filters"
   ]
  },
  {
   "cell_type": "markdown",
   "id": "00350e05",
   "metadata": {},
   "source": [
    "## Event Detection\n"
   ]
  },
  {
   "cell_type": "code",
   "execution_count": null,
   "id": "3a97ad51",
   "metadata": {},
   "outputs": [],
   "source": [
    "def analyze_period(data_dir, fm=None):\n",
    "    \"\"\"Performs eoos analysis based on the period\n",
    "            when the data was collected.\n",
    "        Args:\n",
    "            data_dir: Path to the data.\n",
    "            fm: if include flowmeter data for analysis\n",
    "    \"\"\"\n",
    "    \n",
    "    # Dataframe used to log the analysis\n",
    "    cols = ['date', 'plot_num', 'start index', 'end index', \n",
    "            'start time', 'end time', 'feces volume', 'urine volume']\n",
    "    df_stat = pd.DataFrame(columns=cols)\n",
    "    writer = pd.ExcelWriter(data_dir+'.xlsx', engine='xlsxwriter')\n",
    "    \n",
    "    # analyze date by date\n",
    "    for date in os.listdir(data_dir):\n",
    "        if date.startswith('.'): continue # skip sys hidden files\n",
    "        if data_dir == 'period_2' and fm:\n",
    "            # for period 2, there are some dates using fm w sr of 2\n",
    "            if int(date) > 20210319:\n",
    "                fm = 2\n",
    "            else:\n",
    "                fm = 5\n",
    "          \n",
    "        # detect events for one date\n",
    "        df, s_idxs, e_idxs = analyze_one_day(data_dir, date, \n",
    "                                             flowmeter=fm, door=False)\n",
    "        \n",
    "        # create figures and stats for each event\n",
    "        plot_num = 0\n",
    "        for s, e in zip(s_idxs, e_idxs):\n",
    "            \n",
    "            fig = plot_event(df, s, e, flowmeter = fm, derivative=None)\n",
    "            fig.savefig(os.path.join(data_dir, date, 'event_' + str(plot_num+1) + '.png'))\n",
    "            plt.close()\n",
    "\n",
    "            row = {'date': date,  'plot_num': plot_num, \n",
    "                   'start index': s, 'end index': e,\n",
    "                   'start time': df.loc[s, 'date_time'] , \n",
    "                   'end time': df.loc[e, 'date_time'],\n",
    "                   'feces volume': df.loc[e, 'feces'] - df.loc[s, 'feces'],\n",
    "                   'urine volume': df.loc[e, 'urine'] - df.loc[s, 'urine']}\n",
    "            df_stat = df_stat.append(row, ignore_index=True, sort=False)\n",
    "            plot_num += 1\n",
    "    \n",
    "    # Save the stats\n",
    "    df_stat.to_excel(writer, sheet_name=date)\n",
    "    writer.save()"
   ]
  },
  {
   "cell_type": "code",
   "execution_count": null,
   "id": "b11511ce",
   "metadata": {
    "scrolled": false
   },
   "outputs": [],
   "source": [
    "duration_1 = analyze_period('period_1', None)"
   ]
  },
  {
   "cell_type": "code",
   "execution_count": null,
   "id": "5967766e",
   "metadata": {
    "scrolled": true
   },
   "outputs": [],
   "source": [
    "duration_2 = analyze_period('period_2', 2)"
   ]
  },
  {
   "cell_type": "code",
   "execution_count": null,
   "id": "f774b15f",
   "metadata": {
    "scrolled": true
   },
   "outputs": [],
   "source": [
    "duration_3 = analyze_period('data_3', 2)"
   ]
  },
  {
   "cell_type": "markdown",
   "id": "e9f83ef9",
   "metadata": {},
   "source": [
    "## Event Classification\n",
    "Now, stat analysis for each detected events are stored as local csv files. We can read them for further modeling."
   ]
  },
  {
   "cell_type": "code",
   "execution_count": null,
   "id": "04ac94ec",
   "metadata": {},
   "outputs": [],
   "source": [
    "def read_stat(data_dir):\n",
    "    \"\"\"Read stats for detected events\n",
    "        Args:\n",
    "            data_dir: Path to the data.\n",
    "    \"\"\"\n",
    "    df = pd.ExcelFile(data_dir+'.xlsx')\n",
    "    df_dates_list = []\n",
    "    # read stats date by date\n",
    "    for sheet_name in df.sheet_names:\n",
    "        df_data = df.parse(sheet_name, skiprows=0) \n",
    "        df_dates_list.append(df_data)\n",
    "    df_dates = pd.concat(df_dates_list, axis=0)\n",
    "    df_dates['volume'] = df_dates.loc[:, 'feces volume'] + df_dates.loc[:, 'urine volume']\n",
    "    df_dates['duration'] = df_dates.loc[:, 'end index'] - df_dates.loc[:, 'start index']\n",
    "    \n",
    "    # remove vols < 0.2\n",
    "    df_dates = df_dates.loc[df_dates.loc[:, 'volume'] >= 0.2, :]\n",
    "    # remove duration < 15\n",
    "    df_dates = df_dates.loc[df_dates.loc[:, 'duration'] >= 15, :]\n",
    "    # remove duration > 450\n",
    "    df_dates = df_dates.loc[df_dates.loc[:, 'duration'] <= 450, :]\n",
    "    return df_dates"
   ]
  },
  {
   "cell_type": "code",
   "execution_count": null,
   "id": "37f75356",
   "metadata": {},
   "outputs": [],
   "source": [
    "df_1 = read_stat('period_1')\n",
    "duration_1 = df_1.loc[:, 'duration'].values"
   ]
  },
  {
   "cell_type": "code",
   "execution_count": null,
   "id": "45526d01",
   "metadata": {
    "scrolled": true
   },
   "outputs": [],
   "source": [
    "df_2 = read_stat('period_2')\n",
    "duration_2 = df_2.loc[:, 'duration'].values"
   ]
  },
  {
   "cell_type": "code",
   "execution_count": null,
   "id": "065cc8e4",
   "metadata": {},
   "outputs": [],
   "source": [
    "df_3 = read_stat('data_3')\n",
    "duration_3 = df_3.loc[:, 'duration'].values"
   ]
  },
  {
   "cell_type": "code",
   "execution_count": null,
   "id": "d2feb251",
   "metadata": {},
   "outputs": [],
   "source": [
    "duration_short_123 = list(duration_1)+ list(duration_2) + list(duration_3)"
   ]
  },
  {
   "cell_type": "markdown",
   "id": "ab738e11",
   "metadata": {},
   "source": [
    "### GMM Modeling"
   ]
  },
  {
   "cell_type": "code",
   "execution_count": null,
   "id": "3175b853",
   "metadata": {},
   "outputs": [],
   "source": [
    "from sklearn import mixture\n",
    "duration_short_123 = np.array(duration_short_123).reshape(-1, 1)\n",
    "gmm = mixture.GaussianMixture(n_components=2, covariance_type='full').fit(duration_short_123)"
   ]
  },
  {
   "cell_type": "code",
   "execution_count": null,
   "id": "dbcd83ec",
   "metadata": {
    "scrolled": true
   },
   "outputs": [],
   "source": [
    "# Parameters of fitted GMM Modeling\n",
    "means = gmm.means_.reshape(2, )\n",
    "var = gmm.covariances_.reshape(2, )\n",
    "stds = np.sqrt(var)\n",
    "weights = gmm.weights_\n",
    "print('means', means)\n",
    "print('var', var)\n",
    "print('stds', stds)\n",
    "print('weights', weights)"
   ]
  },
  {
   "cell_type": "code",
   "execution_count": null,
   "id": "5e4d9796",
   "metadata": {},
   "outputs": [],
   "source": [
    "# GMM prediction\n",
    "y = gmm.predict(duration_short_123)\n",
    "y_prob = gmm.predict_proba(duration_short_123)"
   ]
  },
  {
   "cell_type": "code",
   "execution_count": null,
   "id": "2f09c921",
   "metadata": {},
   "outputs": [],
   "source": [
    "from scipy.stats import norm\n",
    "def gauss(x, mu, sigma, a):\n",
    "    y = norm.pdf(x, mu, sigma)*a \n",
    "    return y\n",
    "\n",
    "def bimodal(x, mu1, sigma1, mu2, sigma2):\n",
    "    return gauss(x,mu1,sigma1)+gauss(x,mu2,sigma2)"
   ]
  },
  {
   "cell_type": "code",
   "execution_count": null,
   "id": "72b57120",
   "metadata": {
    "scrolled": true
   },
   "outputs": [],
   "source": [
    "# Plotting GMM\n",
    "gmm_x = np.linspace(0,450)\n",
    "gmm_y = np.exp(gmm.score_samples(gmm_x.reshape(-1,1)))\n",
    "\n",
    "# Plot histograms and gaussian curves\n",
    "fig, ax = plt.subplots()\n",
    "ax.hist(duration_short_123, bins=range(15, 450 + 5, 5), density=True)\n",
    "ax.plot(gmm_x, gmm_y, color=\"crimson\", lw=1, label=\"GMM\")\n",
    "label_2 = 'x~p(x|{:.0f}, {:.0f}\\u00b2)*{:.1f}'.format(means[1], stds[1], weights[1])\n",
    "label_1 = 'x~p(x|{:.0f}, {:.0f}\\u00b2)*{:.1f}'.format(means[0], stds[0], weights[0])\n",
    "plt.plot(gmm_x, gauss(gmm_x, means[0], stds[0], weights[0]), color='red', lw=1, ls=\"--\", label=label_1)\n",
    "plt.plot(gmm_x, gauss(gmm_x, means[1], stds[1], weights[1]), color='red', lw=1, ls=\":\", label=label_2)\n",
    "plt.axvline(x=124, ls='-', linewidth=1, color = 'red', label = 't = %d'%124)\n",
    "ax.set_xlabel(\"Duration (s)\", fontsize=14)\n",
    "ax.set_ylabel(\"Density\", fontsize=14)\n",
    "plt.legend(fontsize=14)\n",
    "plt.xticks(fontsize=14)\n",
    "plt.yticks(fontsize=14)\n",
    "plt.show()"
   ]
  }
 ],
 "metadata": {
  "kernelspec": {
   "display_name": "Python 3",
   "language": "python",
   "name": "python3"
  },
  "language_info": {
   "codemirror_mode": {
    "name": "ipython",
    "version": 3
   },
   "file_extension": ".py",
   "mimetype": "text/x-python",
   "name": "python",
   "nbconvert_exporter": "python",
   "pygments_lexer": "ipython3",
   "version": "3.6.13"
  }
 },
 "nbformat": 4,
 "nbformat_minor": 5
}
